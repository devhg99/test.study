{
 "cells": [
  {
   "cell_type": "markdown",
   "metadata": {},
   "source": [
    "# 명령어 복습\n",
    "\n",
    "1. mainloop()\n",
    "    <br>: 계속해서 창이 열릴 수 있도록 함\n",
    "2. speed(0~10)\n",
    "    <br>: 속도 변경 (숫자가 클수록 빠름)\n",
    "    <br> 0(최고속도), 1(느림), 10(빠름)\n",
    "3. forward(픽셀수), fd(픽셀수) \n",
    "    <br>: 커서 방향으로 픽셀수 만큼 전진\n",
    "4. backward(픽셀수), bk(픽셀수), back(픽셀수)\n",
    "   <br>: 커서 반대방향으로 픽셀수 만큼 후진\n",
    "5. right(각도), rt(각도)\n",
    "    <br>: 커서방향이 오른쪽으로 각도만큼 회전\n",
    "6. left(각도), lt(각도)\n",
    "    <br>: 커서방향이 왼쪽으로 각도만큼 회전\n",
    "7. shape(\"name\")\n",
    "    <br>: 커서의 모양을 변경 (아래 이미지 참고)\n",
    "<br>![이미지](https://blog.kakaocdn.net/dn/bAn1Re/btqRL2F5aUU/tOnO8JAcWaGLpTojSB2BPK/img.jpg)"
   ]
  },
  {
   "cell_type": "markdown",
   "metadata": {},
   "source": [
    "# 명령어 복습\n",
    "\n",
    "1. goto(x,y), setpos(x,y)\n",
    "   <br>: 터틀을 (x,y)의 위치로 이동\n",
    "2. pensize(x)\n",
    "   <br>: 그리는 선의 굵기를 x로 해준다.\n",
    "3. color(\"색상\")\n",
    "   <br>: 원하는 색상을 넣으면, 선과 터틀의 색상이 바뀐다.\n",
    "```python\n",
    "# 색상 종류\n",
    "colors=[\n",
    "    'red', \n",
    "    'blue',\n",
    "    'yellow',\n",
    "    'black',\n",
    "    'white',\n",
    "    'violet',\n",
    "    'green'\n",
    "    ]\n",
    "```"
   ]
  },
  {
   "cell_type": "markdown",
   "metadata": {},
   "source": [
    "# 문제1 다각형을 그리는 코드를 변경하여\n",
    "\n",
    "<img src=\"https://github.com/taktakgyun/study-rust-SimpleWebServer/assets/18041844/2599c400-0003-4adb-82a3-c3cbac98f678\" width=\"300\" height=\"300\"/>\n",
    "\n",
    "위 그림과 같이 삼각형, 오각형, 육각형, 십각형을 `goto`함수를 사용하여 적당한 위치로 떨어 트린 후에 그려라\n",
    "\n",
    "- 단 다각형 이외에 아티펙트가 생기면 안됨.\n",
    "- t.penup, t.pendown 을 활용할것"
   ]
  },
  {
   "cell_type": "code",
   "execution_count": 80,
   "metadata": {},
   "outputs": [],
   "source": [
    "import turtle as t\n",
    "\n",
    "t.speed(10)\n",
    "t.penup\n",
    "t.color('white')\n",
    "t.goto(250,250)\n",
    "\n",
    "for a in range(5):\n",
    "    t.color('black')\n",
    "    t.fd(50)\n",
    "    t.lt(72)\n",
    "\n",
    "t.pendown\n",
    "t.color('white')\n",
    "t.goto(250,0)\n",
    "\n",
    "for a in range(3):\n",
    "    t.color('black')\n",
    "    t.fd(50)\n",
    "    t.lt(120)\n",
    "\n",
    "t.penup\n",
    "t.color('white')\n",
    "t.goto(-250,250)\n",
    "\n",
    "for a in range(6):\n",
    "    t.color('black')\n",
    "    t.fd(50)\n",
    "    t.lt(60)\n",
    "\n",
    "t.pendown\n",
    "t.color('white')\n",
    "t.goto(-250,0)\n",
    "\n",
    "for a in range(10):\n",
    "    t.color('black')\n",
    "    t.fd(50)\n",
    "    t.lt(36)\n",
    "\n",
    "t.mainloop()"
   ]
  },
  {
   "cell_type": "markdown",
   "metadata": {},
   "source": [
    "# 문제2 함수를 사용하여 다양한 다각형 만들기\n",
    "\n",
    "### draw_polygon의 빈칸을 작성하여, 그림과 같은 결과를 만드시오.\n",
    "<img src=\"https://github.com/taktakgyun/study-rust-SimpleWebServer/assets/18041844/2599c400-0003-4adb-82a3-c3cbac98f678\" width=\"300\" height=\"300\"/>"
   ]
  },
  {
   "cell_type": "code",
   "execution_count": null,
   "metadata": {},
   "outputs": [
    {
     "ename": "Terminator",
     "evalue": "",
     "output_type": "error",
     "traceback": [
      "\u001b[31m---------------------------------------------------------------------------\u001b[39m",
      "\u001b[31mTerminator\u001b[39m                                Traceback (most recent call last)",
      "\u001b[36mCell\u001b[39m\u001b[36m \u001b[39m\u001b[32mIn[83]\u001b[39m\u001b[32m, line 14\u001b[39m\n\u001b[32m     12\u001b[39m draw_polygon(\u001b[32m10\u001b[39m, \u001b[32m50\u001b[39m)\n\u001b[32m     13\u001b[39m t.goto(-\u001b[32m100\u001b[39m, \u001b[32m100\u001b[39m)\n\u001b[32m---> \u001b[39m\u001b[32m14\u001b[39m \u001b[43mdraw_polygon\u001b[49m\u001b[43m(\u001b[49m\u001b[32;43m6\u001b[39;49m\u001b[43m,\u001b[49m\u001b[43m \u001b[49m\u001b[32;43m60\u001b[39;49m\u001b[43m)\u001b[49m\n\u001b[32m     15\u001b[39m t.goto(\u001b[32m100\u001b[39m, \u001b[32m100\u001b[39m)\n\u001b[32m     16\u001b[39m draw_polygon(\u001b[32m5\u001b[39m, \u001b[32m40\u001b[39m)\n",
      "\u001b[36mCell\u001b[39m\u001b[36m \u001b[39m\u001b[32mIn[83]\u001b[39m\u001b[32m, line 8\u001b[39m, in \u001b[36mdraw_polygon\u001b[39m\u001b[34m(num, length)\u001b[39m\n\u001b[32m      6\u001b[39m \u001b[38;5;28;01mfor\u001b[39;00m a \u001b[38;5;129;01min\u001b[39;00m \u001b[38;5;28mrange\u001b[39m(\u001b[32m5\u001b[39m):\n\u001b[32m      7\u001b[39m     t.color(\u001b[33m'\u001b[39m\u001b[33mblack\u001b[39m\u001b[33m'\u001b[39m)\n\u001b[32m----> \u001b[39m\u001b[32m8\u001b[39m     \u001b[43mt\u001b[49m\u001b[43m.\u001b[49m\u001b[43mfd\u001b[49m\u001b[43m(\u001b[49m\u001b[32;43m50\u001b[39;49m\u001b[43m)\u001b[49m\n\u001b[32m      9\u001b[39m     t.lt(\u001b[32m72\u001b[39m)\n",
      "\u001b[36mFile \u001b[39m\u001b[32m<string>:8\u001b[39m, in \u001b[36mfd\u001b[39m\u001b[34m(distance)\u001b[39m\n",
      "\u001b[36mFile \u001b[39m\u001b[32mc:\\Users\\user\\AppData\\Local\\Programs\\Python\\Python313\\Lib\\turtle.py:1635\u001b[39m, in \u001b[36mTNavigator.forward\u001b[39m\u001b[34m(self, distance)\u001b[39m\n\u001b[32m   1614\u001b[39m \u001b[38;5;28;01mdef\u001b[39;00m\u001b[38;5;250m \u001b[39m\u001b[34mforward\u001b[39m(\u001b[38;5;28mself\u001b[39m, distance):\n\u001b[32m   1615\u001b[39m \u001b[38;5;250m    \u001b[39m\u001b[33;03m\"\"\"Move the turtle forward by the specified distance.\u001b[39;00m\n\u001b[32m   1616\u001b[39m \n\u001b[32m   1617\u001b[39m \u001b[33;03m    Aliases: forward | fd\u001b[39;00m\n\u001b[32m   (...)\u001b[39m\u001b[32m   1633\u001b[39m \u001b[33;03m    (-50.00,0.00)\u001b[39;00m\n\u001b[32m   1634\u001b[39m \u001b[33;03m    \"\"\"\u001b[39;00m\n\u001b[32m-> \u001b[39m\u001b[32m1635\u001b[39m     \u001b[38;5;28;43mself\u001b[39;49m\u001b[43m.\u001b[49m\u001b[43m_go\u001b[49m\u001b[43m(\u001b[49m\u001b[43mdistance\u001b[49m\u001b[43m)\u001b[49m\n",
      "\u001b[36mFile \u001b[39m\u001b[32mc:\\Users\\user\\AppData\\Local\\Programs\\Python\\Python313\\Lib\\turtle.py:1596\u001b[39m, in \u001b[36mTNavigator._go\u001b[39m\u001b[34m(self, distance)\u001b[39m\n\u001b[32m   1594\u001b[39m \u001b[38;5;250m\u001b[39m\u001b[33;03m\"\"\"move turtle forward by specified distance\"\"\"\u001b[39;00m\n\u001b[32m   1595\u001b[39m ende = \u001b[38;5;28mself\u001b[39m._position + \u001b[38;5;28mself\u001b[39m._orient * distance\n\u001b[32m-> \u001b[39m\u001b[32m1596\u001b[39m \u001b[38;5;28;43mself\u001b[39;49m\u001b[43m.\u001b[49m\u001b[43m_goto\u001b[49m\u001b[43m(\u001b[49m\u001b[43mende\u001b[49m\u001b[43m)\u001b[49m\n",
      "\u001b[36mFile \u001b[39m\u001b[32mc:\\Users\\user\\AppData\\Local\\Programs\\Python\\Python313\\Lib\\turtle.py:3220\u001b[39m, in \u001b[36mRawTurtle._goto\u001b[39m\u001b[34m(self, end)\u001b[39m\n\u001b[32m   3216\u001b[39m     \u001b[38;5;28;01mif\u001b[39;00m \u001b[38;5;28mself\u001b[39m._drawing:\n\u001b[32m   3217\u001b[39m         screen._drawline(\u001b[38;5;28mself\u001b[39m.drawingLineItem,\n\u001b[32m   3218\u001b[39m                          (start, \u001b[38;5;28mself\u001b[39m._position),\n\u001b[32m   3219\u001b[39m                          \u001b[38;5;28mself\u001b[39m._pencolor, \u001b[38;5;28mself\u001b[39m._pensize, top)\n\u001b[32m-> \u001b[39m\u001b[32m3220\u001b[39m     \u001b[38;5;28;43mself\u001b[39;49m\u001b[43m.\u001b[49m\u001b[43m_update\u001b[49m\u001b[43m(\u001b[49m\u001b[43m)\u001b[49m\n\u001b[32m   3221\u001b[39m \u001b[38;5;28;01mif\u001b[39;00m \u001b[38;5;28mself\u001b[39m._drawing:\n\u001b[32m   3222\u001b[39m     screen._drawline(\u001b[38;5;28mself\u001b[39m.drawingLineItem, ((\u001b[32m0\u001b[39m, \u001b[32m0\u001b[39m), (\u001b[32m0\u001b[39m, \u001b[32m0\u001b[39m)),\n\u001b[32m   3223\u001b[39m                                    fill=\u001b[33m\"\u001b[39m\u001b[33m\"\u001b[39m, width=\u001b[38;5;28mself\u001b[39m._pensize)\n",
      "\u001b[36mFile \u001b[39m\u001b[32mc:\\Users\\user\\AppData\\Local\\Programs\\Python\\Python313\\Lib\\turtle.py:2667\u001b[39m, in \u001b[36mRawTurtle._update\u001b[39m\u001b[34m(self)\u001b[39m\n\u001b[32m   2665\u001b[39m     \u001b[38;5;28;01mreturn\u001b[39;00m\n\u001b[32m   2666\u001b[39m \u001b[38;5;28;01melif\u001b[39;00m screen._tracing == \u001b[32m1\u001b[39m:\n\u001b[32m-> \u001b[39m\u001b[32m2667\u001b[39m     \u001b[38;5;28;43mself\u001b[39;49m\u001b[43m.\u001b[49m\u001b[43m_update_data\u001b[49m\u001b[43m(\u001b[49m\u001b[43m)\u001b[49m\n\u001b[32m   2668\u001b[39m     \u001b[38;5;28mself\u001b[39m._drawturtle()\n\u001b[32m   2669\u001b[39m     screen._update()                  \u001b[38;5;66;03m# TurtleScreenBase\u001b[39;00m\n",
      "\u001b[36mFile \u001b[39m\u001b[32mc:\\Users\\user\\AppData\\Local\\Programs\\Python\\Python313\\Lib\\turtle.py:2653\u001b[39m, in \u001b[36mRawTurtle._update_data\u001b[39m\u001b[34m(self)\u001b[39m\n\u001b[32m   2652\u001b[39m \u001b[38;5;28;01mdef\u001b[39;00m\u001b[38;5;250m \u001b[39m\u001b[34m_update_data\u001b[39m(\u001b[38;5;28mself\u001b[39m):\n\u001b[32m-> \u001b[39m\u001b[32m2653\u001b[39m     \u001b[38;5;28;43mself\u001b[39;49m\u001b[43m.\u001b[49m\u001b[43mscreen\u001b[49m\u001b[43m.\u001b[49m\u001b[43m_incrementudc\u001b[49m\u001b[43m(\u001b[49m\u001b[43m)\u001b[49m\n\u001b[32m   2654\u001b[39m     \u001b[38;5;28;01mif\u001b[39;00m \u001b[38;5;28mself\u001b[39m.screen._updatecounter != \u001b[32m0\u001b[39m:\n\u001b[32m   2655\u001b[39m         \u001b[38;5;28;01mreturn\u001b[39;00m\n",
      "\u001b[36mFile \u001b[39m\u001b[32mc:\\Users\\user\\AppData\\Local\\Programs\\Python\\Python313\\Lib\\turtle.py:1283\u001b[39m, in \u001b[36mTurtleScreen._incrementudc\u001b[39m\u001b[34m(self)\u001b[39m\n\u001b[32m   1281\u001b[39m \u001b[38;5;28;01mif\u001b[39;00m \u001b[38;5;129;01mnot\u001b[39;00m TurtleScreen._RUNNING:\n\u001b[32m   1282\u001b[39m     TurtleScreen._RUNNING = \u001b[38;5;28;01mTrue\u001b[39;00m\n\u001b[32m-> \u001b[39m\u001b[32m1283\u001b[39m     \u001b[38;5;28;01mraise\u001b[39;00m Terminator\n\u001b[32m   1284\u001b[39m \u001b[38;5;28;01mif\u001b[39;00m \u001b[38;5;28mself\u001b[39m._tracing > \u001b[32m0\u001b[39m:\n\u001b[32m   1285\u001b[39m     \u001b[38;5;28mself\u001b[39m._updatecounter += \u001b[32m1\u001b[39m\n",
      "\u001b[31mTerminator\u001b[39m: "
     ]
    }
   ],
   "source": [
    "import turtle as t\n",
    "t.speed(3)\n",
    "t.penup()\n",
    "def draw_polygon(num:int, length:int):   \n",
    "    for a in range(5):\n",
    "        t.color('black')\n",
    "        t.fd(50)\n",
    "        t.lt(72)\n",
    "        \n",
    "t.goto(-150, -150)\n",
    "draw_polygon(10, 50)\n",
    "t.goto(-100, 100)\n",
    "draw_polygon(6, 60)\n",
    "t.goto(100, 100)\n",
    "draw_polygon(5, 40)\n",
    "t.goto(100, -100)\n",
    "draw_polygon(3, 60)\n",
    "t.mainloop()"
   ]
  },
  {
   "cell_type": "markdown",
   "metadata": {},
   "source": [
    "## 문제3 3*3 원 그리기\n",
    "<img src=\"https://github.com/taktakgyun/study-rust-SimpleWebServer/assets/18041844/c0e484b0-3499-4bea-8ee1-6e141cfc8088\" width=\"300\" height=\"300\"/>\n",
    "<img src=\"https://github.com/taktakgyun/study-rust-SimpleWebServer/assets/18041844/d4a18e8f-2fba-4e70-b0d9-ecdc563cb66e\" width=\"300\" height=\"300\"/><br>\n",
    "앞에서 작성한 `draw_circle`를 사용하여 3X3의 동그라미 그리기\n",
    "\n",
    "\n",
    "### 힌트\n",
    "1. for문을 이중으로 작성하는 것이 좋다.\n",
    "2. 언패킹을 사용하면 좀더 깔끔한 코드를 작성할수 있어요"
   ]
  },
  {
   "cell_type": "code",
   "execution_count": null,
   "metadata": {},
   "outputs": [],
   "source": [
    "import turtle as t\n",
    "from typing import List, Tuple\n",
    "\n",
    "t.pensize(2)\n",
    "t.speed(0)\n",
    "\n",
    "def draw_circle(pos:Tuple[int,int], color):\n",
    "    down = t.isdown()\n",
    "    t.penup()\n",
    "    r= 30\n",
    "    t.goto(@@@)\n",
    "    t.pendown()\n",
    "    t.color(color)\n",
    "    t.circle(r)\n",
    "    if not down:\n",
    "        t.penup()\n",
    "\n",
    "start_point = [-100,-100]\n",
    "xgap = 100\n",
    "ygap = 100\n",
    "colors = ['red','green', 'blue']\n",
    "\n",
    "for i in range(3):\n",
    "    for j in range(3):\n",
    "        [x , y] = start_point\n",
    "        new_point = @@@\n",
    "        draw_circle(new_point, 'black')\n",
    "\n",
    "t.mainloop()\n"
   ]
  },
  {
   "cell_type": "markdown",
   "metadata": {},
   "source": [
    "## 문제4 draw_polygon를 사용하여 그림과 같은 결과를 만드시오.\n",
    "<img src=\"https://github.com/taktakgyun/study-rust-SimpleWebServer/assets/18041844/1eaee721-1053-4d7b-b33e-e0d0103cd2de\" width=\"300\" height=\"300\"/>"
   ]
  },
  {
   "cell_type": "code",
   "execution_count": null,
   "metadata": {},
   "outputs": [],
   "source": [
    "import turtle as t\n",
    "\n",
    "n = 3\n",
    "colors = ['red', 'blue', 'green', 'yellow', 'purple']\n",
    "start_point = [-150, -150]\n",
    "xgap = 150\n",
    "ygap = 150\n",
    "t.penup()\n",
    "t.speed(0)\n",
    "\n",
    "def draw_polygon(num:int, length:int):\n",
    "    degree = 360/num\n",
    "    t.pendown()\n",
    "    for i in range(num):\n",
    "        t.forward(length)\n",
    "        t.left(degree)\n",
    "    t.penup()\n",
    "\n",
    "# 1. 코드를 작성하시오\n",
    "    # 2. 코드를 작성하시오\n",
    "        # 3. 코드를 작성하시오 x,y\n",
    "        # 4. 코드를 작성하시오 x,y\n",
    "        # 5. 코드를 작성하시오 goto\n",
    "        # 6. 코드를 작성하시오 color\n",
    "        # 7. 코드를 작성하시오 draw_polygon\n",
    "        # 8. 코드를 작성하시오 ???\n",
    "t.mainloop()"
   ]
  }
 ],
 "metadata": {
  "kernelspec": {
   "display_name": "Python 3",
   "language": "python",
   "name": "python3"
  },
  "language_info": {
   "codemirror_mode": {
    "name": "ipython",
    "version": 3
   },
   "file_extension": ".py",
   "mimetype": "text/x-python",
   "name": "python",
   "nbconvert_exporter": "python",
   "pygments_lexer": "ipython3",
   "version": "3.13.2"
  }
 },
 "nbformat": 4,
 "nbformat_minor": 2
}
