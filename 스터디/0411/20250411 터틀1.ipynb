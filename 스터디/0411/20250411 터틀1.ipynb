{
 "cells": [
  {
   "cell_type": "markdown",
   "metadata": {},
   "source": [
    "# Welcome\n",
    "turtle을 사용한 코딩 월드에 오신 것을 환영합니다.\n",
    "\n",
    "# First\n",
    "먼저 turtle을 깔아주세요."
   ]
  },
  {
   "cell_type": "code",
   "execution_count": 14,
   "metadata": {},
   "outputs": [
    {
     "name": "stdout",
     "output_type": "stream",
     "text": [
      "Requirement already satisfied: pip in c:\\users\\user\\appdata\\local\\programs\\python\\python313\\lib\\site-packages (25.0.1)\n",
      "Requirement already satisfied: pythonturtle==0.3.2 in c:\\users\\user\\appdata\\local\\programs\\python\\python313\\lib\\site-packages (from -r requirements.txt (line 4)) (0.3.2)\n",
      "Requirement already satisfied: pygame==2.6.1 in c:\\users\\user\\appdata\\local\\programs\\python\\python313\\lib\\site-packages (from -r requirements.txt (line 7)) (2.6.1)\n",
      "Requirement already satisfied: jupyter==1.1.1 in c:\\users\\user\\appdata\\local\\programs\\python\\python313\\lib\\site-packages (from -r requirements.txt (line 10)) (1.1.1)\n",
      "Requirement already satisfied: notebook in c:\\users\\user\\appdata\\local\\programs\\python\\python313\\lib\\site-packages (from jupyter==1.1.1->-r requirements.txt (line 10)) (7.4.0)\n",
      "Requirement already satisfied: jupyter-console in c:\\users\\user\\appdata\\local\\programs\\python\\python313\\lib\\site-packages (from jupyter==1.1.1->-r requirements.txt (line 10)) (6.6.3)\n",
      "Requirement already satisfied: nbconvert in c:\\users\\user\\appdata\\local\\programs\\python\\python313\\lib\\site-packages (from jupyter==1.1.1->-r requirements.txt (line 10)) (7.16.6)\n",
      "Requirement already satisfied: ipykernel in c:\\users\\user\\appdata\\roaming\\python\\python313\\site-packages (from jupyter==1.1.1->-r requirements.txt (line 10)) (6.29.5)\n",
      "Requirement already satisfied: ipywidgets in c:\\users\\user\\appdata\\local\\programs\\python\\python313\\lib\\site-packages (from jupyter==1.1.1->-r requirements.txt (line 10)) (8.1.6)\n",
      "Requirement already satisfied: jupyterlab in c:\\users\\user\\appdata\\local\\programs\\python\\python313\\lib\\site-packages (from jupyter==1.1.1->-r requirements.txt (line 10)) (4.4.0)\n",
      "Requirement already satisfied: comm>=0.1.1 in c:\\users\\user\\appdata\\roaming\\python\\python313\\site-packages (from ipykernel->jupyter==1.1.1->-r requirements.txt (line 10)) (0.2.2)\n",
      "Requirement already satisfied: debugpy>=1.6.5 in c:\\users\\user\\appdata\\roaming\\python\\python313\\site-packages (from ipykernel->jupyter==1.1.1->-r requirements.txt (line 10)) (1.8.13)\n",
      "Requirement already satisfied: ipython>=7.23.1 in c:\\users\\user\\appdata\\roaming\\python\\python313\\site-packages (from ipykernel->jupyter==1.1.1->-r requirements.txt (line 10)) (9.1.0)\n",
      "Requirement already satisfied: jupyter-client>=6.1.12 in c:\\users\\user\\appdata\\roaming\\python\\python313\\site-packages (from ipykernel->jupyter==1.1.1->-r requirements.txt (line 10)) (8.6.3)\n",
      "Requirement already satisfied: jupyter-core!=5.0.*,>=4.12 in c:\\users\\user\\appdata\\roaming\\python\\python313\\site-packages (from ipykernel->jupyter==1.1.1->-r requirements.txt (line 10)) (5.7.2)\n",
      "Requirement already satisfied: matplotlib-inline>=0.1 in c:\\users\\user\\appdata\\roaming\\python\\python313\\site-packages (from ipykernel->jupyter==1.1.1->-r requirements.txt (line 10)) (0.1.7)\n",
      "Requirement already satisfied: nest-asyncio in c:\\users\\user\\appdata\\roaming\\python\\python313\\site-packages (from ipykernel->jupyter==1.1.1->-r requirements.txt (line 10)) (1.6.0)\n",
      "Requirement already satisfied: packaging in c:\\users\\user\\appdata\\roaming\\python\\python313\\site-packages (from ipykernel->jupyter==1.1.1->-r requirements.txt (line 10)) (24.2)\n",
      "Requirement already satisfied: psutil in c:\\users\\user\\appdata\\roaming\\python\\python313\\site-packages (from ipykernel->jupyter==1.1.1->-r requirements.txt (line 10)) (7.0.0)\n",
      "Requirement already satisfied: pyzmq>=24 in c:\\users\\user\\appdata\\roaming\\python\\python313\\site-packages (from ipykernel->jupyter==1.1.1->-r requirements.txt (line 10)) (26.4.0)\n",
      "Requirement already satisfied: tornado>=6.1 in c:\\users\\user\\appdata\\roaming\\python\\python313\\site-packages (from ipykernel->jupyter==1.1.1->-r requirements.txt (line 10)) (6.4.2)\n",
      "Requirement already satisfied: traitlets>=5.4.0 in c:\\users\\user\\appdata\\roaming\\python\\python313\\site-packages (from ipykernel->jupyter==1.1.1->-r requirements.txt (line 10)) (5.14.3)\n",
      "Requirement already satisfied: widgetsnbextension~=4.0.14 in c:\\users\\user\\appdata\\local\\programs\\python\\python313\\lib\\site-packages (from ipywidgets->jupyter==1.1.1->-r requirements.txt (line 10)) (4.0.14)\n",
      "Requirement already satisfied: jupyterlab_widgets~=3.0.14 in c:\\users\\user\\appdata\\local\\programs\\python\\python313\\lib\\site-packages (from ipywidgets->jupyter==1.1.1->-r requirements.txt (line 10)) (3.0.14)\n",
      "Requirement already satisfied: prompt-toolkit>=3.0.30 in c:\\users\\user\\appdata\\roaming\\python\\python313\\site-packages (from jupyter-console->jupyter==1.1.1->-r requirements.txt (line 10)) (3.0.50)\n",
      "Requirement already satisfied: pygments in c:\\users\\user\\appdata\\roaming\\python\\python313\\site-packages (from jupyter-console->jupyter==1.1.1->-r requirements.txt (line 10)) (2.19.1)\n",
      "Requirement already satisfied: async-lru>=1.0.0 in c:\\users\\user\\appdata\\local\\programs\\python\\python313\\lib\\site-packages (from jupyterlab->jupyter==1.1.1->-r requirements.txt (line 10)) (2.0.5)\n",
      "Requirement already satisfied: httpx>=0.25.0 in c:\\users\\user\\appdata\\local\\programs\\python\\python313\\lib\\site-packages (from jupyterlab->jupyter==1.1.1->-r requirements.txt (line 10)) (0.28.1)\n",
      "Requirement already satisfied: jinja2>=3.0.3 in c:\\users\\user\\appdata\\local\\programs\\python\\python313\\lib\\site-packages (from jupyterlab->jupyter==1.1.1->-r requirements.txt (line 10)) (3.1.6)\n",
      "Requirement already satisfied: jupyter-lsp>=2.0.0 in c:\\users\\user\\appdata\\local\\programs\\python\\python313\\lib\\site-packages (from jupyterlab->jupyter==1.1.1->-r requirements.txt (line 10)) (2.2.5)\n",
      "Requirement already satisfied: jupyter-server<3,>=2.4.0 in c:\\users\\user\\appdata\\local\\programs\\python\\python313\\lib\\site-packages (from jupyterlab->jupyter==1.1.1->-r requirements.txt (line 10)) (2.15.0)\n",
      "Requirement already satisfied: jupyterlab-server<3,>=2.27.1 in c:\\users\\user\\appdata\\local\\programs\\python\\python313\\lib\\site-packages (from jupyterlab->jupyter==1.1.1->-r requirements.txt (line 10)) (2.27.3)\n",
      "Requirement already satisfied: notebook-shim>=0.2 in c:\\users\\user\\appdata\\local\\programs\\python\\python313\\lib\\site-packages (from jupyterlab->jupyter==1.1.1->-r requirements.txt (line 10)) (0.2.4)\n",
      "Requirement already satisfied: setuptools>=41.1.0 in c:\\users\\user\\appdata\\local\\programs\\python\\python313\\lib\\site-packages (from jupyterlab->jupyter==1.1.1->-r requirements.txt (line 10)) (78.1.0)\n",
      "Requirement already satisfied: beautifulsoup4 in c:\\users\\user\\appdata\\local\\programs\\python\\python313\\lib\\site-packages (from nbconvert->jupyter==1.1.1->-r requirements.txt (line 10)) (4.13.3)\n",
      "Requirement already satisfied: bleach!=5.0.0 in c:\\users\\user\\appdata\\local\\programs\\python\\python313\\lib\\site-packages (from bleach[css]!=5.0.0->nbconvert->jupyter==1.1.1->-r requirements.txt (line 10)) (6.2.0)\n",
      "Requirement already satisfied: defusedxml in c:\\users\\user\\appdata\\local\\programs\\python\\python313\\lib\\site-packages (from nbconvert->jupyter==1.1.1->-r requirements.txt (line 10)) (0.7.1)\n",
      "Requirement already satisfied: jupyterlab-pygments in c:\\users\\user\\appdata\\local\\programs\\python\\python313\\lib\\site-packages (from nbconvert->jupyter==1.1.1->-r requirements.txt (line 10)) (0.3.0)\n",
      "Requirement already satisfied: markupsafe>=2.0 in c:\\users\\user\\appdata\\local\\programs\\python\\python313\\lib\\site-packages (from nbconvert->jupyter==1.1.1->-r requirements.txt (line 10)) (3.0.2)\n",
      "Requirement already satisfied: mistune<4,>=2.0.3 in c:\\users\\user\\appdata\\local\\programs\\python\\python313\\lib\\site-packages (from nbconvert->jupyter==1.1.1->-r requirements.txt (line 10)) (3.1.3)\n",
      "Requirement already satisfied: nbclient>=0.5.0 in c:\\users\\user\\appdata\\local\\programs\\python\\python313\\lib\\site-packages (from nbconvert->jupyter==1.1.1->-r requirements.txt (line 10)) (0.10.2)\n",
      "Requirement already satisfied: nbformat>=5.7 in c:\\users\\user\\appdata\\local\\programs\\python\\python313\\lib\\site-packages (from nbconvert->jupyter==1.1.1->-r requirements.txt (line 10)) (5.10.4)\n",
      "Requirement already satisfied: pandocfilters>=1.4.1 in c:\\users\\user\\appdata\\local\\programs\\python\\python313\\lib\\site-packages (from nbconvert->jupyter==1.1.1->-r requirements.txt (line 10)) (1.5.1)\n",
      "Requirement already satisfied: webencodings in c:\\users\\user\\appdata\\local\\programs\\python\\python313\\lib\\site-packages (from bleach!=5.0.0->bleach[css]!=5.0.0->nbconvert->jupyter==1.1.1->-r requirements.txt (line 10)) (0.5.1)\n",
      "Requirement already satisfied: tinycss2<1.5,>=1.1.0 in c:\\users\\user\\appdata\\local\\programs\\python\\python313\\lib\\site-packages (from bleach[css]!=5.0.0->nbconvert->jupyter==1.1.1->-r requirements.txt (line 10)) (1.4.0)\n",
      "Requirement already satisfied: anyio in c:\\users\\user\\appdata\\local\\programs\\python\\python313\\lib\\site-packages (from httpx>=0.25.0->jupyterlab->jupyter==1.1.1->-r requirements.txt (line 10)) (4.9.0)\n",
      "Requirement already satisfied: certifi in c:\\users\\user\\appdata\\local\\programs\\python\\python313\\lib\\site-packages (from httpx>=0.25.0->jupyterlab->jupyter==1.1.1->-r requirements.txt (line 10)) (2025.1.31)\n",
      "Requirement already satisfied: httpcore==1.* in c:\\users\\user\\appdata\\local\\programs\\python\\python313\\lib\\site-packages (from httpx>=0.25.0->jupyterlab->jupyter==1.1.1->-r requirements.txt (line 10)) (1.0.7)\n",
      "Requirement already satisfied: idna in c:\\users\\user\\appdata\\local\\programs\\python\\python313\\lib\\site-packages (from httpx>=0.25.0->jupyterlab->jupyter==1.1.1->-r requirements.txt (line 10)) (3.10)\n",
      "Requirement already satisfied: h11<0.15,>=0.13 in c:\\users\\user\\appdata\\local\\programs\\python\\python313\\lib\\site-packages (from httpcore==1.*->httpx>=0.25.0->jupyterlab->jupyter==1.1.1->-r requirements.txt (line 10)) (0.14.0)\n",
      "Requirement already satisfied: colorama in c:\\users\\user\\appdata\\roaming\\python\\python313\\site-packages (from ipython>=7.23.1->ipykernel->jupyter==1.1.1->-r requirements.txt (line 10)) (0.4.6)\n",
      "Requirement already satisfied: decorator in c:\\users\\user\\appdata\\roaming\\python\\python313\\site-packages (from ipython>=7.23.1->ipykernel->jupyter==1.1.1->-r requirements.txt (line 10)) (5.2.1)\n",
      "Requirement already satisfied: ipython-pygments-lexers in c:\\users\\user\\appdata\\roaming\\python\\python313\\site-packages (from ipython>=7.23.1->ipykernel->jupyter==1.1.1->-r requirements.txt (line 10)) (1.1.1)\n",
      "Requirement already satisfied: jedi>=0.16 in c:\\users\\user\\appdata\\roaming\\python\\python313\\site-packages (from ipython>=7.23.1->ipykernel->jupyter==1.1.1->-r requirements.txt (line 10)) (0.19.2)\n",
      "Requirement already satisfied: stack_data in c:\\users\\user\\appdata\\roaming\\python\\python313\\site-packages (from ipython>=7.23.1->ipykernel->jupyter==1.1.1->-r requirements.txt (line 10)) (0.6.3)\n",
      "Requirement already satisfied: python-dateutil>=2.8.2 in c:\\users\\user\\appdata\\roaming\\python\\python313\\site-packages (from jupyter-client>=6.1.12->ipykernel->jupyter==1.1.1->-r requirements.txt (line 10)) (2.9.0.post0)\n",
      "Requirement already satisfied: platformdirs>=2.5 in c:\\users\\user\\appdata\\roaming\\python\\python313\\site-packages (from jupyter-core!=5.0.*,>=4.12->ipykernel->jupyter==1.1.1->-r requirements.txt (line 10)) (4.3.7)\n",
      "Requirement already satisfied: pywin32>=300 in c:\\users\\user\\appdata\\roaming\\python\\python313\\site-packages (from jupyter-core!=5.0.*,>=4.12->ipykernel->jupyter==1.1.1->-r requirements.txt (line 10)) (310)\n",
      "Requirement already satisfied: argon2-cffi>=21.1 in c:\\users\\user\\appdata\\local\\programs\\python\\python313\\lib\\site-packages (from jupyter-server<3,>=2.4.0->jupyterlab->jupyter==1.1.1->-r requirements.txt (line 10)) (23.1.0)\n",
      "Requirement already satisfied: jupyter-events>=0.11.0 in c:\\users\\user\\appdata\\local\\programs\\python\\python313\\lib\\site-packages (from jupyter-server<3,>=2.4.0->jupyterlab->jupyter==1.1.1->-r requirements.txt (line 10)) (0.12.0)\n",
      "Requirement already satisfied: jupyter-server-terminals>=0.4.4 in c:\\users\\user\\appdata\\local\\programs\\python\\python313\\lib\\site-packages (from jupyter-server<3,>=2.4.0->jupyterlab->jupyter==1.1.1->-r requirements.txt (line 10)) (0.5.3)\n",
      "Requirement already satisfied: overrides>=5.0 in c:\\users\\user\\appdata\\local\\programs\\python\\python313\\lib\\site-packages (from jupyter-server<3,>=2.4.0->jupyterlab->jupyter==1.1.1->-r requirements.txt (line 10)) (7.7.0)\n",
      "Requirement already satisfied: prometheus-client>=0.9 in c:\\users\\user\\appdata\\local\\programs\\python\\python313\\lib\\site-packages (from jupyter-server<3,>=2.4.0->jupyterlab->jupyter==1.1.1->-r requirements.txt (line 10)) (0.21.1)\n",
      "Requirement already satisfied: pywinpty>=2.0.1 in c:\\users\\user\\appdata\\local\\programs\\python\\python313\\lib\\site-packages (from jupyter-server<3,>=2.4.0->jupyterlab->jupyter==1.1.1->-r requirements.txt (line 10)) (2.0.15)\n",
      "Requirement already satisfied: send2trash>=1.8.2 in c:\\users\\user\\appdata\\local\\programs\\python\\python313\\lib\\site-packages (from jupyter-server<3,>=2.4.0->jupyterlab->jupyter==1.1.1->-r requirements.txt (line 10)) (1.8.3)\n",
      "Requirement already satisfied: terminado>=0.8.3 in c:\\users\\user\\appdata\\local\\programs\\python\\python313\\lib\\site-packages (from jupyter-server<3,>=2.4.0->jupyterlab->jupyter==1.1.1->-r requirements.txt (line 10)) (0.18.1)\n",
      "Requirement already satisfied: websocket-client>=1.7 in c:\\users\\user\\appdata\\local\\programs\\python\\python313\\lib\\site-packages (from jupyter-server<3,>=2.4.0->jupyterlab->jupyter==1.1.1->-r requirements.txt (line 10)) (1.8.0)\n",
      "Requirement already satisfied: babel>=2.10 in c:\\users\\user\\appdata\\local\\programs\\python\\python313\\lib\\site-packages (from jupyterlab-server<3,>=2.27.1->jupyterlab->jupyter==1.1.1->-r requirements.txt (line 10)) (2.17.0)\n",
      "Requirement already satisfied: json5>=0.9.0 in c:\\users\\user\\appdata\\local\\programs\\python\\python313\\lib\\site-packages (from jupyterlab-server<3,>=2.27.1->jupyterlab->jupyter==1.1.1->-r requirements.txt (line 10)) (0.12.0)\n",
      "Requirement already satisfied: jsonschema>=4.18.0 in c:\\users\\user\\appdata\\local\\programs\\python\\python313\\lib\\site-packages (from jupyterlab-server<3,>=2.27.1->jupyterlab->jupyter==1.1.1->-r requirements.txt (line 10)) (4.23.0)\n",
      "Requirement already satisfied: requests>=2.31 in c:\\users\\user\\appdata\\local\\programs\\python\\python313\\lib\\site-packages (from jupyterlab-server<3,>=2.27.1->jupyterlab->jupyter==1.1.1->-r requirements.txt (line 10)) (2.32.3)\n",
      "Requirement already satisfied: fastjsonschema>=2.15 in c:\\users\\user\\appdata\\local\\programs\\python\\python313\\lib\\site-packages (from nbformat>=5.7->nbconvert->jupyter==1.1.1->-r requirements.txt (line 10)) (2.21.1)\n",
      "Requirement already satisfied: wcwidth in c:\\users\\user\\appdata\\roaming\\python\\python313\\site-packages (from prompt-toolkit>=3.0.30->jupyter-console->jupyter==1.1.1->-r requirements.txt (line 10)) (0.2.13)\n",
      "Requirement already satisfied: soupsieve>1.2 in c:\\users\\user\\appdata\\local\\programs\\python\\python313\\lib\\site-packages (from beautifulsoup4->nbconvert->jupyter==1.1.1->-r requirements.txt (line 10)) (2.6)\n",
      "Requirement already satisfied: typing-extensions>=4.0.0 in c:\\users\\user\\appdata\\local\\programs\\python\\python313\\lib\\site-packages (from beautifulsoup4->nbconvert->jupyter==1.1.1->-r requirements.txt (line 10)) (4.13.1)\n",
      "Requirement already satisfied: sniffio>=1.1 in c:\\users\\user\\appdata\\local\\programs\\python\\python313\\lib\\site-packages (from anyio->httpx>=0.25.0->jupyterlab->jupyter==1.1.1->-r requirements.txt (line 10)) (1.3.1)\n",
      "Requirement already satisfied: argon2-cffi-bindings in c:\\users\\user\\appdata\\local\\programs\\python\\python313\\lib\\site-packages (from argon2-cffi>=21.1->jupyter-server<3,>=2.4.0->jupyterlab->jupyter==1.1.1->-r requirements.txt (line 10)) (21.2.0)\n",
      "Requirement already satisfied: parso<0.9.0,>=0.8.4 in c:\\users\\user\\appdata\\roaming\\python\\python313\\site-packages (from jedi>=0.16->ipython>=7.23.1->ipykernel->jupyter==1.1.1->-r requirements.txt (line 10)) (0.8.4)\n",
      "Requirement already satisfied: attrs>=22.2.0 in c:\\users\\user\\appdata\\local\\programs\\python\\python313\\lib\\site-packages (from jsonschema>=4.18.0->jupyterlab-server<3,>=2.27.1->jupyterlab->jupyter==1.1.1->-r requirements.txt (line 10)) (25.3.0)\n",
      "Requirement already satisfied: jsonschema-specifications>=2023.03.6 in c:\\users\\user\\appdata\\local\\programs\\python\\python313\\lib\\site-packages (from jsonschema>=4.18.0->jupyterlab-server<3,>=2.27.1->jupyterlab->jupyter==1.1.1->-r requirements.txt (line 10)) (2024.10.1)\n",
      "Requirement already satisfied: referencing>=0.28.4 in c:\\users\\user\\appdata\\local\\programs\\python\\python313\\lib\\site-packages (from jsonschema>=4.18.0->jupyterlab-server<3,>=2.27.1->jupyterlab->jupyter==1.1.1->-r requirements.txt (line 10)) (0.36.2)\n",
      "Requirement already satisfied: rpds-py>=0.7.1 in c:\\users\\user\\appdata\\local\\programs\\python\\python313\\lib\\site-packages (from jsonschema>=4.18.0->jupyterlab-server<3,>=2.27.1->jupyterlab->jupyter==1.1.1->-r requirements.txt (line 10)) (0.24.0)\n",
      "Requirement already satisfied: python-json-logger>=2.0.4 in c:\\users\\user\\appdata\\local\\programs\\python\\python313\\lib\\site-packages (from jupyter-events>=0.11.0->jupyter-server<3,>=2.4.0->jupyterlab->jupyter==1.1.1->-r requirements.txt (line 10)) (3.3.0)\n",
      "Requirement already satisfied: pyyaml>=5.3 in c:\\users\\user\\appdata\\local\\programs\\python\\python313\\lib\\site-packages (from jupyter-events>=0.11.0->jupyter-server<3,>=2.4.0->jupyterlab->jupyter==1.1.1->-r requirements.txt (line 10)) (6.0.2)\n",
      "Requirement already satisfied: rfc3339-validator in c:\\users\\user\\appdata\\local\\programs\\python\\python313\\lib\\site-packages (from jupyter-events>=0.11.0->jupyter-server<3,>=2.4.0->jupyterlab->jupyter==1.1.1->-r requirements.txt (line 10)) (0.1.4)\n",
      "Requirement already satisfied: rfc3986-validator>=0.1.1 in c:\\users\\user\\appdata\\local\\programs\\python\\python313\\lib\\site-packages (from jupyter-events>=0.11.0->jupyter-server<3,>=2.4.0->jupyterlab->jupyter==1.1.1->-r requirements.txt (line 10)) (0.1.1)\n",
      "Requirement already satisfied: six>=1.5 in c:\\users\\user\\appdata\\roaming\\python\\python313\\site-packages (from python-dateutil>=2.8.2->jupyter-client>=6.1.12->ipykernel->jupyter==1.1.1->-r requirements.txt (line 10)) (1.17.0)\n",
      "Requirement already satisfied: charset-normalizer<4,>=2 in c:\\users\\user\\appdata\\local\\programs\\python\\python313\\lib\\site-packages (from requests>=2.31->jupyterlab-server<3,>=2.27.1->jupyterlab->jupyter==1.1.1->-r requirements.txt (line 10)) (3.4.1)\n",
      "Requirement already satisfied: urllib3<3,>=1.21.1 in c:\\users\\user\\appdata\\local\\programs\\python\\python313\\lib\\site-packages (from requests>=2.31->jupyterlab-server<3,>=2.27.1->jupyterlab->jupyter==1.1.1->-r requirements.txt (line 10)) (2.3.0)\n",
      "Requirement already satisfied: executing>=1.2.0 in c:\\users\\user\\appdata\\roaming\\python\\python313\\site-packages (from stack_data->ipython>=7.23.1->ipykernel->jupyter==1.1.1->-r requirements.txt (line 10)) (2.2.0)\n",
      "Requirement already satisfied: asttokens>=2.1.0 in c:\\users\\user\\appdata\\roaming\\python\\python313\\site-packages (from stack_data->ipython>=7.23.1->ipykernel->jupyter==1.1.1->-r requirements.txt (line 10)) (3.0.0)\n",
      "Requirement already satisfied: pure-eval in c:\\users\\user\\appdata\\roaming\\python\\python313\\site-packages (from stack_data->ipython>=7.23.1->ipykernel->jupyter==1.1.1->-r requirements.txt (line 10)) (0.2.3)\n",
      "Requirement already satisfied: fqdn in c:\\users\\user\\appdata\\local\\programs\\python\\python313\\lib\\site-packages (from jsonschema[format-nongpl]>=4.18.0->jupyter-events>=0.11.0->jupyter-server<3,>=2.4.0->jupyterlab->jupyter==1.1.1->-r requirements.txt (line 10)) (1.5.1)\n",
      "Requirement already satisfied: isoduration in c:\\users\\user\\appdata\\local\\programs\\python\\python313\\lib\\site-packages (from jsonschema[format-nongpl]>=4.18.0->jupyter-events>=0.11.0->jupyter-server<3,>=2.4.0->jupyterlab->jupyter==1.1.1->-r requirements.txt (line 10)) (20.11.0)\n",
      "Requirement already satisfied: jsonpointer>1.13 in c:\\users\\user\\appdata\\local\\programs\\python\\python313\\lib\\site-packages (from jsonschema[format-nongpl]>=4.18.0->jupyter-events>=0.11.0->jupyter-server<3,>=2.4.0->jupyterlab->jupyter==1.1.1->-r requirements.txt (line 10)) (3.0.0)\n",
      "Requirement already satisfied: uri-template in c:\\users\\user\\appdata\\local\\programs\\python\\python313\\lib\\site-packages (from jsonschema[format-nongpl]>=4.18.0->jupyter-events>=0.11.0->jupyter-server<3,>=2.4.0->jupyterlab->jupyter==1.1.1->-r requirements.txt (line 10)) (1.3.0)\n",
      "Requirement already satisfied: webcolors>=24.6.0 in c:\\users\\user\\appdata\\local\\programs\\python\\python313\\lib\\site-packages (from jsonschema[format-nongpl]>=4.18.0->jupyter-events>=0.11.0->jupyter-server<3,>=2.4.0->jupyterlab->jupyter==1.1.1->-r requirements.txt (line 10)) (24.11.1)\n",
      "Requirement already satisfied: cffi>=1.0.1 in c:\\users\\user\\appdata\\local\\programs\\python\\python313\\lib\\site-packages (from argon2-cffi-bindings->argon2-cffi>=21.1->jupyter-server<3,>=2.4.0->jupyterlab->jupyter==1.1.1->-r requirements.txt (line 10)) (1.17.1)\n",
      "Requirement already satisfied: pycparser in c:\\users\\user\\appdata\\local\\programs\\python\\python313\\lib\\site-packages (from cffi>=1.0.1->argon2-cffi-bindings->argon2-cffi>=21.1->jupyter-server<3,>=2.4.0->jupyterlab->jupyter==1.1.1->-r requirements.txt (line 10)) (2.22)\n",
      "Requirement already satisfied: arrow>=0.15.0 in c:\\users\\user\\appdata\\local\\programs\\python\\python313\\lib\\site-packages (from isoduration->jsonschema[format-nongpl]>=4.18.0->jupyter-events>=0.11.0->jupyter-server<3,>=2.4.0->jupyterlab->jupyter==1.1.1->-r requirements.txt (line 10)) (1.3.0)\n",
      "Requirement already satisfied: types-python-dateutil>=2.8.10 in c:\\users\\user\\appdata\\local\\programs\\python\\python313\\lib\\site-packages (from arrow>=0.15.0->isoduration->jsonschema[format-nongpl]>=4.18.0->jupyter-events>=0.11.0->jupyter-server<3,>=2.4.0->jupyterlab->jupyter==1.1.1->-r requirements.txt (line 10)) (2.9.0.20241206)\n"
     ]
    }
   ],
   "source": [
    "!python -m pip install --upgrade pip\n",
    "!pip install -r requirements.txt"
   ]
  },
  {
   "cell_type": "markdown",
   "metadata": {},
   "source": [
    "# 명령어\n",
    "\n",
    "1. mainloop()\n",
    "    <br>: 계속해서 창이 열릴 수 있도록 함\n",
    "2. speed(0~10)\n",
    "    <br>: 속도 변경 (숫자가 클수록 빠름)\n",
    "    <br> 0(최고속도), 1(느림), 10(빠름)\n",
    "3. forward(픽셀수), fd(픽셀수) \n",
    "    <br>: 커서 방향으로 픽셀수 만큼 전진\n",
    "4. backward(픽셀수), bk(픽셀수), back(픽셀수)\n",
    "   <br>: 커서 반대방향으로 픽셀수 만큼 후진\n",
    "5. right(각도), rt(각도)\n",
    "    <br>: 커서방향이 오른쪽으로 각도만큼 회전\n",
    "6. left(각도), lt(각도)\n",
    "    <br>: 커서방향이 왼쪽으로 각도만큼 회전\n",
    "7. shape(\"name\")\n",
    "    <br>: 커서의 모양을 변경 (아래 이미지 참고)\n",
    "<br>![이미지](https://blog.kakaocdn.net/dn/bAn1Re/btqRL2F5aUU/tOnO8JAcWaGLpTojSB2BPK/img.jpg)"
   ]
  },
  {
   "cell_type": "markdown",
   "metadata": {},
   "source": [
    "**결과 보면서 명령어 확인하기**"
   ]
  },
  {
   "cell_type": "code",
   "execution_count": null,
   "metadata": {},
   "outputs": [],
   "source": [
    "import turtle as t\n",
    "\n",
    "t.speed(1)\n",
    "t.forward(200)\n",
    "t.right(90)\n",
    "t.speed(5)\n",
    "t.shape(\"triangle\")\n",
    "t.forward(200)\n",
    "t.right(90)\n",
    "t.speed(5)\n",
    "t.shape(\"triangle\")\n",
    "t.forward(200)\n",
    "t.left(90)\n",
    "t.speed(5)\n",
    "t.shape(\"triangle\")\n",
    "t.backward(200)\n",
    "\n",
    "t.mainloop()"
   ]
  },
  {
   "cell_type": "markdown",
   "metadata": {},
   "source": [
    "# 사각형 만들기\n",
    "\n",
    "![사각형](https://blog.kakaocdn.net/dn/exxwQH/btqGGGBaiP7/KHjwo4qK1W3i1VfwUelXrK/img.png)"
   ]
  },
  {
   "cell_type": "code",
   "execution_count": 114,
   "metadata": {},
   "outputs": [],
   "source": [
    "import turtle as t\n",
    "\n",
    "t.forward(200)\n",
    "t.left(90)\n",
    "t.forward(200)\n",
    "t.left(90)\n",
    "t.forward(200)\n",
    "t.left(90)\n",
    "t.forward(200)\n",
    "t.left(90)\n",
    "\n",
    "t.mainloop()"
   ]
  },
  {
   "cell_type": "markdown",
   "metadata": {},
   "source": [
    "# 반복문을 사용해서 코드 줄이기"
   ]
  },
  {
   "cell_type": "markdown",
   "metadata": {},
   "source": [
    "### 구구단 2단 출력\n",
    "반복문을 사용해서 2단을 출력하라\n",
    "\n",
    "**조건** : 코드수가 4줄이 넘어가면 안된다.\n",
    "\n",
    "```\n",
    "2 *  1 =  2\n",
    "2 *  2 =  4\n",
    "2 *  3 =  6\n",
    "2 *  4 =  8\n",
    "2 *  5 =  10\n",
    "2 *  6 =  12\n",
    "2 *  7 =  14\n",
    "2 *  8 =  16\n",
    "```"
   ]
  },
  {
   "cell_type": "code",
   "execution_count": 13,
   "metadata": {},
   "outputs": [
    {
     "name": "stdout",
     "output_type": "stream",
     "text": [
      "2 * 1 = 2\n",
      "2 * 2 = 4\n",
      "2 * 3 = 6\n",
      "2 * 4 = 8\n",
      "2 * 5 = 10\n",
      "2 * 6 = 12\n",
      "2 * 7 = 14\n",
      "2 * 8 = 16\n"
     ]
    }
   ],
   "source": [
    "for a in range(1, 9):\n",
    "    print(str(2), '*', a , '=', a*2)"
   ]
  },
  {
   "cell_type": "markdown",
   "metadata": {},
   "source": [
    "# 사각형 만들기 2\n",
    "\n",
    "반복문을 사용해서 짧게 한다."
   ]
  },
  {
   "cell_type": "code",
   "execution_count": null,
   "metadata": {},
   "outputs": [],
   "source": [
    "import turtle as t\n",
    "\n",
    "t.speed(5)\n",
    "t.shape('triangle')\n",
    "\n",
    "for i in range(4):\n",
    "    t.forward(200)\n",
    "    t.right(90)\n",
    "\n",
    "t.mainloop()"
   ]
  },
  {
   "cell_type": "markdown",
   "metadata": {},
   "source": [
    "# 삼각형 만들기\n",
    "\n",
    "반복문을 사용하여 짧게 만들어라\n",
    "\n",
    "![img](https://blog.kakaocdn.net/dn/bE6smH/btqGH1LmZRD/7VkhQ4qKkCxyffowPDInJ1/img.png)"
   ]
  },
  {
   "cell_type": "code",
   "execution_count": null,
   "metadata": {},
   "outputs": [],
   "source": [
    "import turtle as t\n",
    "\n",
    "t.speed(5)\n",
    "t.shape('triangle')\n",
    "\n",
    "for i in range(3):\n",
    "    t.forward(200)\n",
    "    t.right(120)\n",
    "\n",
    "t.mainloop()"
   ]
  },
  {
   "cell_type": "markdown",
   "metadata": {},
   "source": [
    "# 오각형 만들기\n",
    "\n",
    "![img](https://blog.kakaocdn.net/dn/bgPOJE/btqGHqYWt7P/Fa8OFrIJKC2T9ARznj3SR0/img.png)\n",
    "\n",
    "# 추가 설명\n",
    "\n",
    "360/변수의 수 = 다각형에서 하나의 외각\n",
    "\n",
    "![img](https://2.bp.blogspot.com/-nEpFb8cOCRM/W_Y1PbS2a0I/AAAAAAAACb8/mBHULFFUoWodvI21WAiS3f01qipLMOuKwCLcBGAs/s1600/%25EB%258B%25A4%25EA%25B0%2581%25ED%2598%2595%25EB%2582%25B4%25EA%25B0%2581%25EC%2599%25B8%25EA%25B0%2581.png)"
   ]
  },
  {
   "cell_type": "code",
   "execution_count": 110,
   "metadata": {},
   "outputs": [],
   "source": [
    "import turtle as t\n",
    "\n",
    "t.speed(5)\n",
    "t.shape('triangle')\n",
    "\n",
    "for i in range(5):\n",
    "    t.forward(200)\n",
    "    t.right(72)\n",
    "    \n",
    "t.mainloop()"
   ]
  },
  {
   "cell_type": "markdown",
   "metadata": {},
   "source": [
    "# 20각형 만들기\n",
    "\n",
    "![img](https://blog.kakaocdn.net/dn/BDljl/btqGGWRO9Ka/47ZHJ9kc7dJKwCCjuxdCpk/img.png)"
   ]
  },
  {
   "cell_type": "code",
   "execution_count": 112,
   "metadata": {},
   "outputs": [],
   "source": [
    "import turtle as t\n",
    "\n",
    "t.speed(5)\n",
    "t.shape('triangle')\n",
    "\n",
    "for i in range(20):\n",
    "    t.forward(50)\n",
    "    t.right(18)\n",
    "\n",
    "    \n",
    "t.mainloop()"
   ]
  },
  {
   "cell_type": "markdown",
   "metadata": {},
   "source": [
    "# 변수를 사용해서 다각형 만들기\n",
    "\n",
    "변수를 활용해서 다양하게 만들어 보자"
   ]
  },
  {
   "cell_type": "code",
   "execution_count": null,
   "metadata": {},
   "outputs": [],
   "source": [
    "import turtle as t\n",
    "\n",
    "line_number = 5\n",
    "line_length = 150\n",
    "degree = @@@\n",
    "\n",
    "# 선언한 변수를 활용하여 코드를 작성하시오\n",
    "    \n",
    "t.mainloop()"
   ]
  },
  {
   "cell_type": "markdown",
   "metadata": {},
   "source": [
    "# 별 만들기\n",
    "![img](https://blog.kakaocdn.net/dn/F4ecc/btqGX4N46Yu/zMledHfXxdjckREP4KBd51/img.png)"
   ]
  },
  {
   "cell_type": "code",
   "execution_count": null,
   "metadata": {},
   "outputs": [],
   "source": [
    "import turtle as t\n",
    "\n",
    "line_number = 5\n",
    "\n",
    "t.speed(5)\n",
    "t.shape('triangle')\n",
    "\n",
    "for i in range(5):\n",
    "    t.forward(200)\n",
    "    t.right(144)\n",
    "\n",
    "    \n",
    "t.mainloop()"
   ]
  },
  {
   "cell_type": "markdown",
   "metadata": {},
   "source": [
    "### 난이도 업\n",
    "- 변수와 수식을 활용해서 5각 별을 만들어라\n",
    "- line_number를 변경할 때 변수에 따라 각이 달라지는 별을 만드는 코드를 만들어라\n",
    "- input 함수를 사용해서"
   ]
  },
  {
   "cell_type": "markdown",
   "metadata": {},
   "source": [
    "# 사각 회오리 만들기\n",
    "\n",
    "![img](https://blog.kakaocdn.net/dn/bdwLLS/btqGGHNBEv2/6dq2B0nDjd7P1aSCP3hkB0/img.png)"
   ]
  },
  {
   "cell_type": "code",
   "execution_count": null,
   "metadata": {},
   "outputs": [
    {
     "ename": "Terminator",
     "evalue": "",
     "output_type": "error",
     "traceback": [
      "\u001b[31m---------------------------------------------------------------------------\u001b[39m",
      "\u001b[31mTerminator\u001b[39m                                Traceback (most recent call last)",
      "\u001b[36mCell\u001b[39m\u001b[36m \u001b[39m\u001b[32mIn[128]\u001b[39m\u001b[32m, line 8\u001b[39m\n\u001b[32m      5\u001b[39m degree = \u001b[32m90\u001b[39m\n\u001b[32m      7\u001b[39m t.color(\u001b[33m\"\u001b[39m\u001b[33mblue\u001b[39m\u001b[33m\"\u001b[39m)\n\u001b[32m----> \u001b[39m\u001b[32m8\u001b[39m \u001b[43mt\u001b[49m\u001b[43m.\u001b[49m\u001b[43mspeed\u001b[49m\u001b[43m(\u001b[49m\u001b[32;43m5\u001b[39;49m\u001b[43m)\u001b[49m\n\u001b[32m      9\u001b[39m t.shape(\u001b[33m'\u001b[39m\u001b[33mtriangle\u001b[39m\u001b[33m'\u001b[39m)\n\u001b[32m     11\u001b[39m \u001b[38;5;28;01mfor\u001b[39;00m i \u001b[38;5;129;01min\u001b[39;00m \u001b[38;5;28mrange\u001b[39m(\u001b[32m100\u001b[39m):\n",
      "\u001b[36mFile \u001b[39m\u001b[32m<string>:5\u001b[39m, in \u001b[36mspeed\u001b[39m\u001b[34m(speed)\u001b[39m\n",
      "\u001b[31mTerminator\u001b[39m: "
     ]
    }
   ],
   "source": [
    "import turtle as t\n",
    "\n",
    "line_number = 4\n",
    "repeat_number = 100 # 100 겹을 만든다.\n",
    "degree = 90\n",
    "\n",
    "t.color(\"blue\")\n",
    "t.speed(5)\n",
    "t.shape('triangle')\n",
    "\n",
    "for i in range(100):\n",
    "    t.forward(200)\n",
    "    t.right(90)\n",
    "    \n",
    "t.mainloop()"
   ]
  },
  {
   "cell_type": "markdown",
   "metadata": {},
   "source": [
    "### 힌트\n",
    "- `range` 함수의 파라미터는 1, 2, 3 인 경우가 다릅니다. 찾아보세요.\n",
    "- 그리는 순서에 따라서 각 선의 길이의 규칙성을 찾아보세요.\n",
    "\n",
    "### 난이도 업\n",
    "- `line_number`을 조정해서 다양한 다각형을 그려보세요.\n",
    "- 회오리의 간격을 조절해 보세요."
   ]
  }
 ],
 "metadata": {
  "kernelspec": {
   "display_name": "Python 3",
   "language": "python",
   "name": "python3"
  },
  "language_info": {
   "codemirror_mode": {
    "name": "ipython",
    "version": 3
   },
   "file_extension": ".py",
   "mimetype": "text/x-python",
   "name": "python",
   "nbconvert_exporter": "python",
   "pygments_lexer": "ipython3",
   "version": "3.13.2"
  },
  "orig_nbformat": 4
 },
 "nbformat": 4,
 "nbformat_minor": 2
}
